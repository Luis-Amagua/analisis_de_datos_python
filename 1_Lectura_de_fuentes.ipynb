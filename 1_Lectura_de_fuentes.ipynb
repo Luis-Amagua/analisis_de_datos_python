{
  "nbformat": 4,
  "nbformat_minor": 0,
  "metadata": {
    "colab": {
      "provenance": [],
      "authorship_tag": "ABX9TyNDqquYaasZ/teTeshWGYez",
      "include_colab_link": true
    },
    "kernelspec": {
      "name": "python3",
      "display_name": "Python 3"
    },
    "language_info": {
      "name": "python"
    }
  },
  "cells": [
    {
      "cell_type": "markdown",
      "metadata": {
        "id": "view-in-github",
        "colab_type": "text"
      },
      "source": [
        "<a href=\"https://colab.research.google.com/github/Luis-Amagua/analisis_de_datos_python/blob/main/1_Lectura_de_fuentes.ipynb\" target=\"_parent\"><img src=\"https://colab.research.google.com/assets/colab-badge.svg\" alt=\"Open In Colab\"/></a>"
      ]
    },
    {
      "cell_type": "code",
      "execution_count": 5,
      "metadata": {
        "colab": {
          "base_uri": "https://localhost:8080/",
          "height": 35
        },
        "id": "nxcpT-LooZB1",
        "outputId": "5137122c-2574-4b6f-c858-e1aa7a00b810"
      },
      "outputs": [
        {
          "output_type": "execute_result",
          "data": {
            "text/plain": [
              "'1.3.5'"
            ],
            "application/vnd.google.colaboratory.intrinsic+json": {
              "type": "string"
            }
          },
          "metadata": {},
          "execution_count": 5
        }
      ],
      "source": [
        "import pandas \n",
        "pandas.__version__"
      ]
    },
    {
      "cell_type": "code",
      "source": [
        "# tenemos una lista y se creará un data frame\n",
        "pokemon=['Bulbasur','Squirtle','Charizard','Pikachu','Onix','Geodude','Vulpix', 'Starmie']\n",
        "tipos=['grass/poisson','water','fire/flying','electric','rock/ground','rock/ground','fire','water']\n",
        "numero_pokedex=[1,4,7,25,95,74,37,121]"
      ],
      "metadata": {
        "id": "ykxl1m_QpbIq"
      },
      "execution_count": 18,
      "outputs": []
    },
    {
      "cell_type": "code",
      "source": [
        "dict_pokemon={'nombre':pokemon,\n",
        "              'tipo':tipos,\n",
        "              'pokedex':numero_pokedex}"
      ],
      "metadata": {
        "id": "GwQK0uM9qm1u"
      },
      "execution_count": 19,
      "outputs": []
    },
    {
      "cell_type": "code",
      "source": [
        "df_pokemon=pandas.DataFrame(dict_pokemon)"
      ],
      "metadata": {
        "id": "dfEMKy6srKiV"
      },
      "execution_count": 21,
      "outputs": []
    },
    {
      "cell_type": "code",
      "source": [
        "type(df_pokemon)"
      ],
      "metadata": {
        "colab": {
          "base_uri": "https://localhost:8080/"
        },
        "id": "zezj9Xo8rc5J",
        "outputId": "576fd348-64eb-4cd3-919a-c1cf6df19e79"
      },
      "execution_count": 22,
      "outputs": [
        {
          "output_type": "execute_result",
          "data": {
            "text/plain": [
              "pandas.core.frame.DataFrame"
            ]
          },
          "metadata": {},
          "execution_count": 22
        }
      ]
    },
    {
      "cell_type": "code",
      "source": [],
      "metadata": {
        "id": "PfLRDj7hsOR8"
      },
      "execution_count": null,
      "outputs": []
    }
  ]
}